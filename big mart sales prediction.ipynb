{
 "cells": [
  {
   "cell_type": "markdown",
   "id": "e0c8fff4",
   "metadata": {},
   "source": [
    "**Sales Prediction for Big Mart Outlets**\n",
    "\n",
    "\n",
    "The data scientists at BigMart have collected 2013 sales data for 1559 products across 10 stores in different cities. Also, certain attributes of each product and store have been defined. The aim is to build a predictive model and predict the sales of each product at a particular outlet.\n",
    "\n",
    "Using this model, BigMart will try to understand the properties of products and outlets which play a key role in increasing sales.\n",
    "\n",
    "Please note that the data may have missing values as some stores might not report all the data due to technical glitches. Hence, it will be required to treat them accordingly. "
   ]
  },
  {
   "cell_type": "code",
   "execution_count": 1,
   "id": "0b8903e9",
   "metadata": {},
   "outputs": [],
   "source": [
    "import pandas as pd\n",
    "import numpy as np\n",
    "import scipy.stats as stats\n",
    "import matplotlib.pyplot as plt\n",
    "import seaborn as sns\n",
    "\n",
    "\n",
    "plt.rcParams['figure.figsize']=[15,6]\n",
    "\n",
    "import warnings\n",
    "warnings.filterwarnings('ignore')"
   ]
  },
  {
   "cell_type": "code",
   "execution_count": 2,
   "id": "9b46e5f6",
   "metadata": {},
   "outputs": [
    {
     "data": {
      "text/html": [
       "<div>\n",
       "<style scoped>\n",
       "    .dataframe tbody tr th:only-of-type {\n",
       "        vertical-align: middle;\n",
       "    }\n",
       "\n",
       "    .dataframe tbody tr th {\n",
       "        vertical-align: top;\n",
       "    }\n",
       "\n",
       "    .dataframe thead th {\n",
       "        text-align: right;\n",
       "    }\n",
       "</style>\n",
       "<table border=\"1\" class=\"dataframe\">\n",
       "  <thead>\n",
       "    <tr style=\"text-align: right;\">\n",
       "      <th></th>\n",
       "      <th>Item_Weight</th>\n",
       "      <th>Item_Fat_Content</th>\n",
       "      <th>Item_Visibility</th>\n",
       "      <th>Item_MRP</th>\n",
       "      <th>Outlet_Size</th>\n",
       "      <th>Outlet_Location_Type</th>\n",
       "      <th>Outlet_Type</th>\n",
       "      <th>Item_Outlet_Sales</th>\n",
       "      <th>Item_Type_Cat</th>\n",
       "      <th>ItemID_Cat</th>\n",
       "      <th>Outlet_Perf</th>\n",
       "      <th>Existence_Yr</th>\n",
       "    </tr>\n",
       "  </thead>\n",
       "  <tbody>\n",
       "    <tr>\n",
       "      <th>0</th>\n",
       "      <td>9.30</td>\n",
       "      <td>Low Fat</td>\n",
       "      <td>0.016047</td>\n",
       "      <td>249.8092</td>\n",
       "      <td>Medium</td>\n",
       "      <td>Tier 1</td>\n",
       "      <td>Supermarket Type1</td>\n",
       "      <td>3735.1380</td>\n",
       "      <td>Perishables</td>\n",
       "      <td>FD</td>\n",
       "      <td>Medium_Perf</td>\n",
       "      <td>14</td>\n",
       "    </tr>\n",
       "    <tr>\n",
       "      <th>1</th>\n",
       "      <td>5.92</td>\n",
       "      <td>Regular</td>\n",
       "      <td>0.019278</td>\n",
       "      <td>48.2692</td>\n",
       "      <td>Medium</td>\n",
       "      <td>Tier 3</td>\n",
       "      <td>Supermarket Type2</td>\n",
       "      <td>443.4228</td>\n",
       "      <td>Non_Perishables</td>\n",
       "      <td>DR</td>\n",
       "      <td>Medium_Perf</td>\n",
       "      <td>4</td>\n",
       "    </tr>\n",
       "  </tbody>\n",
       "</table>\n",
       "</div>"
      ],
      "text/plain": [
       "   Item_Weight Item_Fat_Content  Item_Visibility  Item_MRP Outlet_Size  \\\n",
       "0         9.30          Low Fat         0.016047  249.8092      Medium   \n",
       "1         5.92          Regular         0.019278   48.2692      Medium   \n",
       "\n",
       "  Outlet_Location_Type        Outlet_Type  Item_Outlet_Sales    Item_Type_Cat  \\\n",
       "0               Tier 1  Supermarket Type1          3735.1380      Perishables   \n",
       "1               Tier 3  Supermarket Type2           443.4228  Non_Perishables   \n",
       "\n",
       "  ItemID_Cat  Outlet_Perf  Existence_Yr  \n",
       "0         FD  Medium_Perf            14  \n",
       "1         DR  Medium_Perf             4  "
      ]
     },
     "execution_count": 2,
     "metadata": {},
     "output_type": "execute_result"
    }
   ],
   "source": [
    "train=pd.read_csv('Bigmart_Train.csv')\n",
    "train.head(2)"
   ]
  },
  {
   "cell_type": "code",
   "execution_count": 3,
   "id": "1ba2539d",
   "metadata": {},
   "outputs": [
    {
     "data": {
      "text/html": [
       "<div>\n",
       "<style scoped>\n",
       "    .dataframe tbody tr th:only-of-type {\n",
       "        vertical-align: middle;\n",
       "    }\n",
       "\n",
       "    .dataframe tbody tr th {\n",
       "        vertical-align: top;\n",
       "    }\n",
       "\n",
       "    .dataframe thead th {\n",
       "        text-align: right;\n",
       "    }\n",
       "</style>\n",
       "<table border=\"1\" class=\"dataframe\">\n",
       "  <thead>\n",
       "    <tr style=\"text-align: right;\">\n",
       "      <th></th>\n",
       "      <th>Item_Weight</th>\n",
       "      <th>Item_Fat_Content</th>\n",
       "      <th>Item_Visibility</th>\n",
       "      <th>Item_MRP</th>\n",
       "      <th>Outlet_Size</th>\n",
       "      <th>Outlet_Location_Type</th>\n",
       "      <th>Outlet_Type</th>\n",
       "      <th>Item_Type_Cat</th>\n",
       "      <th>ItemID_Cat</th>\n",
       "      <th>Outlet_Perf</th>\n",
       "      <th>Existence_Yr</th>\n",
       "    </tr>\n",
       "  </thead>\n",
       "  <tbody>\n",
       "    <tr>\n",
       "      <th>0</th>\n",
       "      <td>20.75</td>\n",
       "      <td>Low Fat</td>\n",
       "      <td>0.007565</td>\n",
       "      <td>107.8622</td>\n",
       "      <td>Medium</td>\n",
       "      <td>Tier 1</td>\n",
       "      <td>Supermarket Type1</td>\n",
       "      <td>Non_Perishables</td>\n",
       "      <td>FD</td>\n",
       "      <td>Medium_Perf</td>\n",
       "      <td>14</td>\n",
       "    </tr>\n",
       "    <tr>\n",
       "      <th>1</th>\n",
       "      <td>8.30</td>\n",
       "      <td>Regular</td>\n",
       "      <td>0.038428</td>\n",
       "      <td>87.3198</td>\n",
       "      <td>Small</td>\n",
       "      <td>Tier 2</td>\n",
       "      <td>Supermarket Type1</td>\n",
       "      <td>Perishables</td>\n",
       "      <td>FD</td>\n",
       "      <td>Medium_Perf</td>\n",
       "      <td>6</td>\n",
       "    </tr>\n",
       "  </tbody>\n",
       "</table>\n",
       "</div>"
      ],
      "text/plain": [
       "   Item_Weight Item_Fat_Content  Item_Visibility  Item_MRP Outlet_Size  \\\n",
       "0        20.75          Low Fat         0.007565  107.8622      Medium   \n",
       "1         8.30          Regular         0.038428   87.3198       Small   \n",
       "\n",
       "  Outlet_Location_Type        Outlet_Type    Item_Type_Cat ItemID_Cat  \\\n",
       "0               Tier 1  Supermarket Type1  Non_Perishables         FD   \n",
       "1               Tier 2  Supermarket Type1      Perishables         FD   \n",
       "\n",
       "   Outlet_Perf  Existence_Yr  \n",
       "0  Medium_Perf            14  \n",
       "1  Medium_Perf             6  "
      ]
     },
     "execution_count": 3,
     "metadata": {},
     "output_type": "execute_result"
    }
   ],
   "source": [
    "test=pd.read_csv('Bigmart_Test.csv')\n",
    "test.head(2)"
   ]
  },
  {
   "cell_type": "code",
   "execution_count": 4,
   "id": "63c72b8a",
   "metadata": {},
   "outputs": [
    {
     "data": {
      "text/html": [
       "<div>\n",
       "<style scoped>\n",
       "    .dataframe tbody tr th:only-of-type {\n",
       "        vertical-align: middle;\n",
       "    }\n",
       "\n",
       "    .dataframe tbody tr th {\n",
       "        vertical-align: top;\n",
       "    }\n",
       "\n",
       "    .dataframe thead th {\n",
       "        text-align: right;\n",
       "    }\n",
       "</style>\n",
       "<table border=\"1\" class=\"dataframe\">\n",
       "  <thead>\n",
       "    <tr style=\"text-align: right;\">\n",
       "      <th></th>\n",
       "      <th>Item_Weight</th>\n",
       "      <th>Item_Fat_Content</th>\n",
       "      <th>Item_Visibility</th>\n",
       "      <th>Item_MRP</th>\n",
       "      <th>Outlet_Size</th>\n",
       "      <th>Outlet_Location_Type</th>\n",
       "      <th>Outlet_Type</th>\n",
       "      <th>Item_Outlet_Sales</th>\n",
       "      <th>Item_Type_Cat</th>\n",
       "      <th>ItemID_Cat</th>\n",
       "      <th>Outlet_Perf</th>\n",
       "      <th>Existence_Yr</th>\n",
       "    </tr>\n",
       "  </thead>\n",
       "  <tbody>\n",
       "    <tr>\n",
       "      <th>0</th>\n",
       "      <td>9.300</td>\n",
       "      <td>Low Fat</td>\n",
       "      <td>0.016047</td>\n",
       "      <td>249.8092</td>\n",
       "      <td>Medium</td>\n",
       "      <td>Tier 1</td>\n",
       "      <td>Supermarket Type1</td>\n",
       "      <td>3735.1380</td>\n",
       "      <td>Perishables</td>\n",
       "      <td>FD</td>\n",
       "      <td>Medium_Perf</td>\n",
       "      <td>14</td>\n",
       "    </tr>\n",
       "    <tr>\n",
       "      <th>1</th>\n",
       "      <td>5.920</td>\n",
       "      <td>Regular</td>\n",
       "      <td>0.019278</td>\n",
       "      <td>48.2692</td>\n",
       "      <td>Medium</td>\n",
       "      <td>Tier 3</td>\n",
       "      <td>Supermarket Type2</td>\n",
       "      <td>443.4228</td>\n",
       "      <td>Non_Perishables</td>\n",
       "      <td>DR</td>\n",
       "      <td>Medium_Perf</td>\n",
       "      <td>4</td>\n",
       "    </tr>\n",
       "    <tr>\n",
       "      <th>2</th>\n",
       "      <td>17.500</td>\n",
       "      <td>Low Fat</td>\n",
       "      <td>0.016760</td>\n",
       "      <td>141.6180</td>\n",
       "      <td>Medium</td>\n",
       "      <td>Tier 1</td>\n",
       "      <td>Supermarket Type1</td>\n",
       "      <td>2097.2700</td>\n",
       "      <td>Perishables</td>\n",
       "      <td>FD</td>\n",
       "      <td>Medium_Perf</td>\n",
       "      <td>14</td>\n",
       "    </tr>\n",
       "    <tr>\n",
       "      <th>3</th>\n",
       "      <td>19.200</td>\n",
       "      <td>Regular</td>\n",
       "      <td>0.022914</td>\n",
       "      <td>182.0950</td>\n",
       "      <td>Small</td>\n",
       "      <td>Tier 3</td>\n",
       "      <td>Grocery Store</td>\n",
       "      <td>732.3800</td>\n",
       "      <td>Perishables</td>\n",
       "      <td>FD</td>\n",
       "      <td>Low_Perf</td>\n",
       "      <td>15</td>\n",
       "    </tr>\n",
       "    <tr>\n",
       "      <th>4</th>\n",
       "      <td>8.930</td>\n",
       "      <td>Non Edible</td>\n",
       "      <td>0.013177</td>\n",
       "      <td>53.8614</td>\n",
       "      <td>High</td>\n",
       "      <td>Tier 3</td>\n",
       "      <td>Supermarket Type1</td>\n",
       "      <td>994.7052</td>\n",
       "      <td>Non_Perishables</td>\n",
       "      <td>NC</td>\n",
       "      <td>High_Perf</td>\n",
       "      <td>26</td>\n",
       "    </tr>\n",
       "    <tr>\n",
       "      <th>...</th>\n",
       "      <td>...</td>\n",
       "      <td>...</td>\n",
       "      <td>...</td>\n",
       "      <td>...</td>\n",
       "      <td>...</td>\n",
       "      <td>...</td>\n",
       "      <td>...</td>\n",
       "      <td>...</td>\n",
       "      <td>...</td>\n",
       "      <td>...</td>\n",
       "      <td>...</td>\n",
       "      <td>...</td>\n",
       "    </tr>\n",
       "    <tr>\n",
       "      <th>8518</th>\n",
       "      <td>6.865</td>\n",
       "      <td>Low Fat</td>\n",
       "      <td>0.056783</td>\n",
       "      <td>214.5218</td>\n",
       "      <td>High</td>\n",
       "      <td>Tier 3</td>\n",
       "      <td>Supermarket Type1</td>\n",
       "      <td>2778.3834</td>\n",
       "      <td>Non_Perishables</td>\n",
       "      <td>FD</td>\n",
       "      <td>High_Perf</td>\n",
       "      <td>26</td>\n",
       "    </tr>\n",
       "    <tr>\n",
       "      <th>8519</th>\n",
       "      <td>8.380</td>\n",
       "      <td>Regular</td>\n",
       "      <td>0.046982</td>\n",
       "      <td>108.1570</td>\n",
       "      <td>Medium</td>\n",
       "      <td>Tier 2</td>\n",
       "      <td>Supermarket Type1</td>\n",
       "      <td>549.2850</td>\n",
       "      <td>Non_Perishables</td>\n",
       "      <td>FD</td>\n",
       "      <td>Medium_Perf</td>\n",
       "      <td>11</td>\n",
       "    </tr>\n",
       "    <tr>\n",
       "      <th>8520</th>\n",
       "      <td>10.600</td>\n",
       "      <td>Non Edible</td>\n",
       "      <td>0.035186</td>\n",
       "      <td>85.1224</td>\n",
       "      <td>Small</td>\n",
       "      <td>Tier 2</td>\n",
       "      <td>Supermarket Type1</td>\n",
       "      <td>1193.1136</td>\n",
       "      <td>Non_Perishables</td>\n",
       "      <td>NC</td>\n",
       "      <td>Medium_Perf</td>\n",
       "      <td>9</td>\n",
       "    </tr>\n",
       "    <tr>\n",
       "      <th>8521</th>\n",
       "      <td>7.210</td>\n",
       "      <td>Regular</td>\n",
       "      <td>0.145221</td>\n",
       "      <td>103.1332</td>\n",
       "      <td>Medium</td>\n",
       "      <td>Tier 3</td>\n",
       "      <td>Supermarket Type2</td>\n",
       "      <td>1845.5976</td>\n",
       "      <td>Non_Perishables</td>\n",
       "      <td>FD</td>\n",
       "      <td>Medium_Perf</td>\n",
       "      <td>4</td>\n",
       "    </tr>\n",
       "    <tr>\n",
       "      <th>8522</th>\n",
       "      <td>14.800</td>\n",
       "      <td>Low Fat</td>\n",
       "      <td>0.044878</td>\n",
       "      <td>75.4670</td>\n",
       "      <td>Small</td>\n",
       "      <td>Tier 1</td>\n",
       "      <td>Supermarket Type1</td>\n",
       "      <td>765.6700</td>\n",
       "      <td>Non_Perishables</td>\n",
       "      <td>DR</td>\n",
       "      <td>Medium_Perf</td>\n",
       "      <td>16</td>\n",
       "    </tr>\n",
       "  </tbody>\n",
       "</table>\n",
       "<p>8523 rows × 12 columns</p>\n",
       "</div>"
      ],
      "text/plain": [
       "      Item_Weight Item_Fat_Content  Item_Visibility  Item_MRP Outlet_Size  \\\n",
       "0           9.300          Low Fat         0.016047  249.8092      Medium   \n",
       "1           5.920          Regular         0.019278   48.2692      Medium   \n",
       "2          17.500          Low Fat         0.016760  141.6180      Medium   \n",
       "3          19.200          Regular         0.022914  182.0950       Small   \n",
       "4           8.930       Non Edible         0.013177   53.8614        High   \n",
       "...           ...              ...              ...       ...         ...   \n",
       "8518        6.865          Low Fat         0.056783  214.5218        High   \n",
       "8519        8.380          Regular         0.046982  108.1570      Medium   \n",
       "8520       10.600       Non Edible         0.035186   85.1224       Small   \n",
       "8521        7.210          Regular         0.145221  103.1332      Medium   \n",
       "8522       14.800          Low Fat         0.044878   75.4670       Small   \n",
       "\n",
       "     Outlet_Location_Type        Outlet_Type  Item_Outlet_Sales  \\\n",
       "0                  Tier 1  Supermarket Type1          3735.1380   \n",
       "1                  Tier 3  Supermarket Type2           443.4228   \n",
       "2                  Tier 1  Supermarket Type1          2097.2700   \n",
       "3                  Tier 3      Grocery Store           732.3800   \n",
       "4                  Tier 3  Supermarket Type1           994.7052   \n",
       "...                   ...                ...                ...   \n",
       "8518               Tier 3  Supermarket Type1          2778.3834   \n",
       "8519               Tier 2  Supermarket Type1           549.2850   \n",
       "8520               Tier 2  Supermarket Type1          1193.1136   \n",
       "8521               Tier 3  Supermarket Type2          1845.5976   \n",
       "8522               Tier 1  Supermarket Type1           765.6700   \n",
       "\n",
       "        Item_Type_Cat ItemID_Cat  Outlet_Perf  Existence_Yr  \n",
       "0         Perishables         FD  Medium_Perf            14  \n",
       "1     Non_Perishables         DR  Medium_Perf             4  \n",
       "2         Perishables         FD  Medium_Perf            14  \n",
       "3         Perishables         FD     Low_Perf            15  \n",
       "4     Non_Perishables         NC    High_Perf            26  \n",
       "...               ...        ...          ...           ...  \n",
       "8518  Non_Perishables         FD    High_Perf            26  \n",
       "8519  Non_Perishables         FD  Medium_Perf            11  \n",
       "8520  Non_Perishables         NC  Medium_Perf             9  \n",
       "8521  Non_Perishables         FD  Medium_Perf             4  \n",
       "8522  Non_Perishables         DR  Medium_Perf            16  \n",
       "\n",
       "[8523 rows x 12 columns]"
      ]
     },
     "execution_count": 4,
     "metadata": {},
     "output_type": "execute_result"
    }
   ],
   "source": [
    "train"
   ]
  },
  {
   "cell_type": "markdown",
   "id": "59713b7b",
   "metadata": {},
   "source": [
    "# Objective\n",
    "\n",
    "* Sklearn models - Submit it on the website\n",
    "\n",
    "\n",
    "* Feature selection- SFS and RFE\n",
    "\n",
    "\n",
    "* Cross validation works\n",
    "\n",
    "\n",
    "* Bias and Variance concept\n",
    "\n",
    "\n",
    "* Regularization\n",
    "\n",
    "\n",
    "* Grid search CV"
   ]
  },
  {
   "cell_type": "code",
   "execution_count": 4,
   "id": "cd2bf164",
   "metadata": {},
   "outputs": [],
   "source": [
    "# Linear regression  model\n"
   ]
  },
  {
   "cell_type": "code",
   "execution_count": 5,
   "id": "c0128f62",
   "metadata": {},
   "outputs": [
    {
     "data": {
      "text/plain": [
       "array(['Medium', 'Small', 'High'], dtype=object)"
      ]
     },
     "execution_count": 5,
     "metadata": {},
     "output_type": "execute_result"
    }
   ],
   "source": [
    "train.Outlet_Size.unique()"
   ]
  },
  {
   "cell_type": "code",
   "execution_count": 4,
   "id": "8cb21dec",
   "metadata": {},
   "outputs": [],
   "source": [
    "dict_outlet={'Small':1,'Medium':2,'High':3}"
   ]
  },
  {
   "cell_type": "code",
   "execution_count": 5,
   "id": "9920bbe5",
   "metadata": {},
   "outputs": [],
   "source": [
    "train['Outlet_Size']=train.Outlet_Size.map(dict_outlet)"
   ]
  },
  {
   "cell_type": "code",
   "execution_count": 6,
   "id": "7dd07ab4",
   "metadata": {},
   "outputs": [],
   "source": [
    "test['Outlet_Size']=test.Outlet_Size.map(dict_outlet)"
   ]
  },
  {
   "cell_type": "code",
   "execution_count": 7,
   "id": "99c9dfd1",
   "metadata": {},
   "outputs": [
    {
     "data": {
      "text/plain": [
       "array(['Tier 1', 'Tier 3', 'Tier 2'], dtype=object)"
      ]
     },
     "execution_count": 7,
     "metadata": {},
     "output_type": "execute_result"
    }
   ],
   "source": [
    "train.Outlet_Location_Type.unique()"
   ]
  },
  {
   "cell_type": "code",
   "execution_count": 8,
   "id": "c276d2b4",
   "metadata": {},
   "outputs": [],
   "source": [
    "Outlet_loc_dict={'Tier 1':3,'Tier 2':2,'Tier 3':1}"
   ]
  },
  {
   "cell_type": "code",
   "execution_count": 9,
   "id": "2636c7b2",
   "metadata": {},
   "outputs": [],
   "source": [
    "train['Outlet_Location_Type']=train.Outlet_Location_Type.map(Outlet_loc_dict)"
   ]
  },
  {
   "cell_type": "code",
   "execution_count": 10,
   "id": "3e3ec055",
   "metadata": {},
   "outputs": [],
   "source": [
    "test['Outlet_Location_Type']=test.Outlet_Location_Type.map(Outlet_loc_dict)"
   ]
  },
  {
   "cell_type": "code",
   "execution_count": 11,
   "id": "a2680163",
   "metadata": {},
   "outputs": [
    {
     "data": {
      "text/plain": [
       "array(['Medium_Perf', 'Low_Perf', 'High_Perf'], dtype=object)"
      ]
     },
     "execution_count": 11,
     "metadata": {},
     "output_type": "execute_result"
    }
   ],
   "source": [
    "train.Outlet_Perf.unique()"
   ]
  },
  {
   "cell_type": "code",
   "execution_count": 12,
   "id": "4d3c7117",
   "metadata": {},
   "outputs": [],
   "source": [
    "dict_perf={'Medium_Perf':2, 'Low_Perf':1, 'High_Perf':3}"
   ]
  },
  {
   "cell_type": "code",
   "execution_count": 13,
   "id": "43659d80",
   "metadata": {},
   "outputs": [],
   "source": [
    "train['Outlet_Perf']=train.Outlet_Perf.map(dict_perf)"
   ]
  },
  {
   "cell_type": "code",
   "execution_count": 14,
   "id": "9e0e5d22",
   "metadata": {},
   "outputs": [],
   "source": [
    "test['Outlet_Perf']=test.Outlet_Perf.map(dict_perf)"
   ]
  },
  {
   "cell_type": "code",
   "execution_count": 15,
   "id": "76bc4b5b",
   "metadata": {},
   "outputs": [
    {
     "data": {
      "text/html": [
       "<div>\n",
       "<style scoped>\n",
       "    .dataframe tbody tr th:only-of-type {\n",
       "        vertical-align: middle;\n",
       "    }\n",
       "\n",
       "    .dataframe tbody tr th {\n",
       "        vertical-align: top;\n",
       "    }\n",
       "\n",
       "    .dataframe thead th {\n",
       "        text-align: right;\n",
       "    }\n",
       "</style>\n",
       "<table border=\"1\" class=\"dataframe\">\n",
       "  <thead>\n",
       "    <tr style=\"text-align: right;\">\n",
       "      <th></th>\n",
       "      <th>Item_Weight</th>\n",
       "      <th>Item_Fat_Content</th>\n",
       "      <th>Item_Visibility</th>\n",
       "      <th>Item_MRP</th>\n",
       "      <th>Outlet_Size</th>\n",
       "      <th>Outlet_Location_Type</th>\n",
       "      <th>Outlet_Type</th>\n",
       "      <th>Item_Outlet_Sales</th>\n",
       "      <th>Item_Type_Cat</th>\n",
       "      <th>ItemID_Cat</th>\n",
       "      <th>Outlet_Perf</th>\n",
       "      <th>Existence_Yr</th>\n",
       "    </tr>\n",
       "  </thead>\n",
       "  <tbody>\n",
       "    <tr>\n",
       "      <th>0</th>\n",
       "      <td>9.30</td>\n",
       "      <td>Low Fat</td>\n",
       "      <td>0.016047</td>\n",
       "      <td>249.8092</td>\n",
       "      <td>2</td>\n",
       "      <td>3</td>\n",
       "      <td>Supermarket Type1</td>\n",
       "      <td>3735.1380</td>\n",
       "      <td>Perishables</td>\n",
       "      <td>FD</td>\n",
       "      <td>2</td>\n",
       "      <td>14</td>\n",
       "    </tr>\n",
       "    <tr>\n",
       "      <th>1</th>\n",
       "      <td>5.92</td>\n",
       "      <td>Regular</td>\n",
       "      <td>0.019278</td>\n",
       "      <td>48.2692</td>\n",
       "      <td>2</td>\n",
       "      <td>1</td>\n",
       "      <td>Supermarket Type2</td>\n",
       "      <td>443.4228</td>\n",
       "      <td>Non_Perishables</td>\n",
       "      <td>DR</td>\n",
       "      <td>2</td>\n",
       "      <td>4</td>\n",
       "    </tr>\n",
       "  </tbody>\n",
       "</table>\n",
       "</div>"
      ],
      "text/plain": [
       "   Item_Weight Item_Fat_Content  Item_Visibility  Item_MRP  Outlet_Size  \\\n",
       "0         9.30          Low Fat         0.016047  249.8092            2   \n",
       "1         5.92          Regular         0.019278   48.2692            2   \n",
       "\n",
       "   Outlet_Location_Type        Outlet_Type  Item_Outlet_Sales  \\\n",
       "0                     3  Supermarket Type1          3735.1380   \n",
       "1                     1  Supermarket Type2           443.4228   \n",
       "\n",
       "     Item_Type_Cat ItemID_Cat  Outlet_Perf  Existence_Yr  \n",
       "0      Perishables         FD            2            14  \n",
       "1  Non_Perishables         DR            2             4  "
      ]
     },
     "execution_count": 15,
     "metadata": {},
     "output_type": "execute_result"
    }
   ],
   "source": [
    "train.head(2)"
   ]
  },
  {
   "cell_type": "code",
   "execution_count": 16,
   "id": "c38eba8d",
   "metadata": {},
   "outputs": [],
   "source": [
    "#pd.get_dummies\n",
    "dummy_train=pd.get_dummies(train,drop_first=True)"
   ]
  },
  {
   "cell_type": "code",
   "execution_count": 17,
   "id": "b552b3e3",
   "metadata": {},
   "outputs": [],
   "source": [
    "dummy_test=pd.get_dummies(test,drop_first=True)"
   ]
  },
  {
   "cell_type": "code",
   "execution_count": 18,
   "id": "84faccc2",
   "metadata": {},
   "outputs": [
    {
     "data": {
      "text/plain": [
       "((8523, 16), (5681, 15))"
      ]
     },
     "execution_count": 18,
     "metadata": {},
     "output_type": "execute_result"
    }
   ],
   "source": [
    "(dummy_train.shape,dummy_test.shape)"
   ]
  },
  {
   "cell_type": "code",
   "execution_count": 19,
   "id": "a5524fa2",
   "metadata": {},
   "outputs": [],
   "source": [
    "#model building\n",
    "\n",
    "from sklearn.linear_model import LinearRegression\n",
    "from sklearn.metrics import r2_score,mean_squared_error"
   ]
  },
  {
   "cell_type": "code",
   "execution_count": 20,
   "id": "9e915a61",
   "metadata": {},
   "outputs": [],
   "source": [
    "lr=LinearRegression()"
   ]
  },
  {
   "cell_type": "code",
   "execution_count": 21,
   "id": "178767a6",
   "metadata": {},
   "outputs": [],
   "source": [
    "x=dummy_train.drop('Item_Outlet_Sales',axis=1)\n",
    "y=dummy_train.Item_Outlet_Sales\n",
    "pred=lr.fit(x,y).predict(dummy_test)"
   ]
  },
  {
   "cell_type": "code",
   "execution_count": 63,
   "id": "cc0ac014",
   "metadata": {},
   "outputs": [
    {
     "data": {
      "text/html": [
       "<div>\n",
       "<style scoped>\n",
       "    .dataframe tbody tr th:only-of-type {\n",
       "        vertical-align: middle;\n",
       "    }\n",
       "\n",
       "    .dataframe tbody tr th {\n",
       "        vertical-align: top;\n",
       "    }\n",
       "\n",
       "    .dataframe thead th {\n",
       "        text-align: right;\n",
       "    }\n",
       "</style>\n",
       "<table border=\"1\" class=\"dataframe\">\n",
       "  <thead>\n",
       "    <tr style=\"text-align: right;\">\n",
       "      <th></th>\n",
       "      <th>Item_Identifier</th>\n",
       "      <th>Outlet_Identifier</th>\n",
       "      <th>Item_Outlet_Sales</th>\n",
       "    </tr>\n",
       "  </thead>\n",
       "  <tbody>\n",
       "    <tr>\n",
       "      <th>0</th>\n",
       "      <td>FDW58</td>\n",
       "      <td>OUT049</td>\n",
       "      <td>1000</td>\n",
       "    </tr>\n",
       "    <tr>\n",
       "      <th>1</th>\n",
       "      <td>FDW14</td>\n",
       "      <td>OUT017</td>\n",
       "      <td>1000</td>\n",
       "    </tr>\n",
       "  </tbody>\n",
       "</table>\n",
       "</div>"
      ],
      "text/plain": [
       "  Item_Identifier Outlet_Identifier  Item_Outlet_Sales\n",
       "0           FDW58            OUT049               1000\n",
       "1           FDW14            OUT017               1000"
      ]
     },
     "execution_count": 63,
     "metadata": {},
     "output_type": "execute_result"
    }
   ],
   "source": [
    "#prepare the submission file\n",
    "sub=pd.read_csv('Submission.csv')\n",
    "sub.head(2)"
   ]
  },
  {
   "cell_type": "code",
   "execution_count": 78,
   "id": "d7ffe360",
   "metadata": {},
   "outputs": [],
   "source": [
    "sub['Item_Outlet_Sales']=np.abs(pred)"
   ]
  },
  {
   "cell_type": "code",
   "execution_count": 75,
   "id": "e49b0e65",
   "metadata": {},
   "outputs": [
    {
     "data": {
      "text/html": [
       "<div>\n",
       "<style scoped>\n",
       "    .dataframe tbody tr th:only-of-type {\n",
       "        vertical-align: middle;\n",
       "    }\n",
       "\n",
       "    .dataframe tbody tr th {\n",
       "        vertical-align: top;\n",
       "    }\n",
       "\n",
       "    .dataframe thead th {\n",
       "        text-align: right;\n",
       "    }\n",
       "</style>\n",
       "<table border=\"1\" class=\"dataframe\">\n",
       "  <thead>\n",
       "    <tr style=\"text-align: right;\">\n",
       "      <th></th>\n",
       "      <th>Item_Identifier</th>\n",
       "      <th>Outlet_Identifier</th>\n",
       "      <th>Item_Outlet_Sales</th>\n",
       "    </tr>\n",
       "  </thead>\n",
       "  <tbody>\n",
       "    <tr>\n",
       "      <th>0</th>\n",
       "      <td>FDW58</td>\n",
       "      <td>OUT049</td>\n",
       "      <td>1810.091542</td>\n",
       "    </tr>\n",
       "    <tr>\n",
       "      <th>1</th>\n",
       "      <td>FDW14</td>\n",
       "      <td>OUT017</td>\n",
       "      <td>1620.028322</td>\n",
       "    </tr>\n",
       "    <tr>\n",
       "      <th>2</th>\n",
       "      <td>NCN55</td>\n",
       "      <td>OUT010</td>\n",
       "      <td>1884.366435</td>\n",
       "    </tr>\n",
       "    <tr>\n",
       "      <th>3</th>\n",
       "      <td>FDQ58</td>\n",
       "      <td>OUT017</td>\n",
       "      <td>2623.636191</td>\n",
       "    </tr>\n",
       "    <tr>\n",
       "      <th>4</th>\n",
       "      <td>FDY38</td>\n",
       "      <td>OUT027</td>\n",
       "      <td>5193.317299</td>\n",
       "    </tr>\n",
       "    <tr>\n",
       "      <th>...</th>\n",
       "      <td>...</td>\n",
       "      <td>...</td>\n",
       "      <td>...</td>\n",
       "    </tr>\n",
       "    <tr>\n",
       "      <th>5676</th>\n",
       "      <td>FDB58</td>\n",
       "      <td>OUT046</td>\n",
       "      <td>2346.263551</td>\n",
       "    </tr>\n",
       "    <tr>\n",
       "      <th>5677</th>\n",
       "      <td>FDD47</td>\n",
       "      <td>OUT018</td>\n",
       "      <td>2435.227878</td>\n",
       "    </tr>\n",
       "    <tr>\n",
       "      <th>5678</th>\n",
       "      <td>NCO17</td>\n",
       "      <td>OUT045</td>\n",
       "      <td>1840.290121</td>\n",
       "    </tr>\n",
       "    <tr>\n",
       "      <th>5679</th>\n",
       "      <td>FDJ26</td>\n",
       "      <td>OUT017</td>\n",
       "      <td>3578.037834</td>\n",
       "    </tr>\n",
       "    <tr>\n",
       "      <th>5680</th>\n",
       "      <td>FDU37</td>\n",
       "      <td>OUT045</td>\n",
       "      <td>1292.405728</td>\n",
       "    </tr>\n",
       "  </tbody>\n",
       "</table>\n",
       "<p>5681 rows × 3 columns</p>\n",
       "</div>"
      ],
      "text/plain": [
       "     Item_Identifier Outlet_Identifier  Item_Outlet_Sales\n",
       "0              FDW58            OUT049        1810.091542\n",
       "1              FDW14            OUT017        1620.028322\n",
       "2              NCN55            OUT010        1884.366435\n",
       "3              FDQ58            OUT017        2623.636191\n",
       "4              FDY38            OUT027        5193.317299\n",
       "...              ...               ...                ...\n",
       "5676           FDB58            OUT046        2346.263551\n",
       "5677           FDD47            OUT018        2435.227878\n",
       "5678           NCO17            OUT045        1840.290121\n",
       "5679           FDJ26            OUT017        3578.037834\n",
       "5680           FDU37            OUT045        1292.405728\n",
       "\n",
       "[5681 rows x 3 columns]"
      ]
     },
     "execution_count": 75,
     "metadata": {},
     "output_type": "execute_result"
    }
   ],
   "source": [
    "sub"
   ]
  },
  {
   "cell_type": "code",
   "execution_count": 80,
   "id": "8f0d36f5",
   "metadata": {},
   "outputs": [],
   "source": [
    "#export the data\n",
    "sub.to_csv('LRMODEL',index=False)"
   ]
  },
  {
   "cell_type": "code",
   "execution_count": 81,
   "id": "e54f4423",
   "metadata": {},
   "outputs": [
    {
     "name": "stdout",
     "output_type": "stream",
     "text": [
      "C:\\Users\\Ashwin\n"
     ]
    }
   ],
   "source": [
    "cd"
   ]
  },
  {
   "cell_type": "code",
   "execution_count": 83,
   "id": "20e64701",
   "metadata": {},
   "outputs": [],
   "source": [
    "\n",
    "from sklearn.ensemble import RandomForestRegressor\n",
    "rf=RandomForestRegressor()\n",
    "pred=rf.fit(x,y).predict(dummy_test)"
   ]
  },
  {
   "cell_type": "code",
   "execution_count": 88,
   "id": "beee2a42",
   "metadata": {},
   "outputs": [],
   "source": [
    "sub.to_csv('rf.csv',index=False)"
   ]
  },
  {
   "cell_type": "markdown",
   "id": "7062d899",
   "metadata": {},
   "source": [
    "### Feature selection\n",
    "\n",
    "* Sequential feature selector\n",
    "\n",
    "\n",
    "* Recursive feature elimination\n",
    "\n",
    "\n",
    "* lets build the data in train and test\n",
    "\n",
    "\n",
    "* build a statestical model and check the p values to the signif feat\n",
    "\n",
    "\n",
    "* bring the sfs and rfe"
   ]
  },
  {
   "cell_type": "code",
   "execution_count": 89,
   "id": "6bdcf624",
   "metadata": {},
   "outputs": [],
   "source": [
    "from sklearn.model_selection import train_test_split"
   ]
  },
  {
   "cell_type": "code",
   "execution_count": 91,
   "id": "8689a37d",
   "metadata": {},
   "outputs": [],
   "source": [
    "xtrain,xtest,ytrain,ytest=train_test_split(x,y,test_size=0.2,random_state=0)"
   ]
  },
  {
   "cell_type": "code",
   "execution_count": 90,
   "id": "ad5eae9d",
   "metadata": {},
   "outputs": [],
   "source": [
    "import statsmodels.api as sma"
   ]
  },
  {
   "cell_type": "code",
   "execution_count": 92,
   "id": "fd557e8f",
   "metadata": {},
   "outputs": [
    {
     "data": {
      "text/html": [
       "<table class=\"simpletable\">\n",
       "<caption>OLS Regression Results</caption>\n",
       "<tr>\n",
       "  <th>Dep. Variable:</th>    <td>Item_Outlet_Sales</td> <th>  R-squared:         </th> <td>   0.563</td> \n",
       "</tr>\n",
       "<tr>\n",
       "  <th>Model:</th>                   <td>OLS</td>        <th>  Adj. R-squared:    </th> <td>   0.562</td> \n",
       "</tr>\n",
       "<tr>\n",
       "  <th>Method:</th>             <td>Least Squares</td>   <th>  F-statistic:       </th> <td>   625.3</td> \n",
       "</tr>\n",
       "<tr>\n",
       "  <th>Date:</th>             <td>Wed, 09 Nov 2022</td>  <th>  Prob (F-statistic):</th>  <td>  0.00</td>  \n",
       "</tr>\n",
       "<tr>\n",
       "  <th>Time:</th>                 <td>12:12:07</td>      <th>  Log-Likelihood:    </th> <td> -57591.</td> \n",
       "</tr>\n",
       "<tr>\n",
       "  <th>No. Observations:</th>      <td>  6818</td>       <th>  AIC:               </th> <td>1.152e+05</td>\n",
       "</tr>\n",
       "<tr>\n",
       "  <th>Df Residuals:</th>          <td>  6803</td>       <th>  BIC:               </th> <td>1.153e+05</td>\n",
       "</tr>\n",
       "<tr>\n",
       "  <th>Df Model:</th>              <td>    14</td>       <th>                     </th>     <td> </td>    \n",
       "</tr>\n",
       "<tr>\n",
       "  <th>Covariance Type:</th>      <td>nonrobust</td>     <th>                     </th>     <td> </td>    \n",
       "</tr>\n",
       "</table>\n",
       "<table class=\"simpletable\">\n",
       "<tr>\n",
       "                <td></td>                   <th>coef</th>     <th>std err</th>      <th>t</th>      <th>P>|t|</th>  <th>[0.025</th>    <th>0.975]</th>  \n",
       "</tr>\n",
       "<tr>\n",
       "  <th>const</th>                         <td>-2262.4149</td> <td>  208.976</td> <td>  -10.826</td> <td> 0.000</td> <td>-2672.072</td> <td>-1852.757</td>\n",
       "</tr>\n",
       "<tr>\n",
       "  <th>Item_Weight</th>                   <td>   -1.6263</td> <td>    2.956</td> <td>   -0.550</td> <td> 0.582</td> <td>   -7.421</td> <td>    4.169</td>\n",
       "</tr>\n",
       "<tr>\n",
       "  <th>Item_Visibility</th>               <td> -192.7715</td> <td>  287.165</td> <td>   -0.671</td> <td> 0.502</td> <td> -755.704</td> <td>  370.161</td>\n",
       "</tr>\n",
       "<tr>\n",
       "  <th>Item_MRP</th>                      <td>   15.5379</td> <td>    0.219</td> <td>   70.807</td> <td> 0.000</td> <td>   15.108</td> <td>   15.968</td>\n",
       "</tr>\n",
       "<tr>\n",
       "  <th>Outlet_Size</th>                   <td>  -25.1677</td> <td>   39.934</td> <td>   -0.630</td> <td> 0.529</td> <td> -103.451</td> <td>   53.115</td>\n",
       "</tr>\n",
       "<tr>\n",
       "  <th>Outlet_Location_Type</th>          <td>  209.7639</td> <td>   76.892</td> <td>    2.728</td> <td> 0.006</td> <td>   59.032</td> <td>  360.495</td>\n",
       "</tr>\n",
       "<tr>\n",
       "  <th>Outlet_Perf</th>                   <td>  800.4936</td> <td>  264.035</td> <td>    3.032</td> <td> 0.002</td> <td>  282.902</td> <td> 1318.085</td>\n",
       "</tr>\n",
       "<tr>\n",
       "  <th>Existence_Yr</th>                  <td>  -34.9406</td> <td>   11.354</td> <td>   -3.077</td> <td> 0.002</td> <td>  -57.199</td> <td>  -12.682</td>\n",
       "</tr>\n",
       "<tr>\n",
       "  <th>Item_Fat_Content_Non Edible</th>   <td>   -1.8962</td> <td>   28.157</td> <td>   -0.067</td> <td> 0.946</td> <td>  -57.093</td> <td>   53.301</td>\n",
       "</tr>\n",
       "<tr>\n",
       "  <th>Item_Fat_Content_Regular</th>      <td>   34.6136</td> <td>   31.558</td> <td>    1.097</td> <td> 0.273</td> <td>  -27.251</td> <td>   96.478</td>\n",
       "</tr>\n",
       "<tr>\n",
       "  <th>Outlet_Type_Supermarket Type1</th> <td>  724.5791</td> <td>  411.547</td> <td>    1.761</td> <td> 0.078</td> <td>  -82.181</td> <td> 1531.340</td>\n",
       "</tr>\n",
       "<tr>\n",
       "  <th>Outlet_Type_Supermarket Type2</th> <td>  440.7998</td> <td>  395.835</td> <td>    1.114</td> <td> 0.265</td> <td> -335.161</td> <td> 1216.760</td>\n",
       "</tr>\n",
       "<tr>\n",
       "  <th>Outlet_Type_Supermarket Type3</th> <td> 2203.4894</td> <td>  393.528</td> <td>    5.599</td> <td> 0.000</td> <td> 1432.051</td> <td> 2974.927</td>\n",
       "</tr>\n",
       "<tr>\n",
       "  <th>Item_Type_Cat_Perishables</th>     <td>  -16.5628</td> <td>   31.437</td> <td>   -0.527</td> <td> 0.598</td> <td>  -78.188</td> <td>   45.063</td>\n",
       "</tr>\n",
       "<tr>\n",
       "  <th>ItemID_Cat_FD</th>                 <td>   31.8162</td> <td>   50.600</td> <td>    0.629</td> <td> 0.530</td> <td>  -67.375</td> <td>  131.008</td>\n",
       "</tr>\n",
       "<tr>\n",
       "  <th>ItemID_Cat_NC</th>                 <td>   -1.8962</td> <td>   28.157</td> <td>   -0.067</td> <td> 0.946</td> <td>  -57.093</td> <td>   53.301</td>\n",
       "</tr>\n",
       "</table>\n",
       "<table class=\"simpletable\">\n",
       "<tr>\n",
       "  <th>Omnibus:</th>       <td>825.427</td> <th>  Durbin-Watson:     </th> <td>   1.969</td>\n",
       "</tr>\n",
       "<tr>\n",
       "  <th>Prob(Omnibus):</th> <td> 0.000</td>  <th>  Jarque-Bera (JB):  </th> <td>2044.750</td>\n",
       "</tr>\n",
       "<tr>\n",
       "  <th>Skew:</th>          <td> 0.698</td>  <th>  Prob(JB):          </th> <td>    0.00</td>\n",
       "</tr>\n",
       "<tr>\n",
       "  <th>Kurtosis:</th>      <td> 5.291</td>  <th>  Cond. No.          </th> <td>2.03e+18</td>\n",
       "</tr>\n",
       "</table><br/><br/>Notes:<br/>[1] Standard Errors assume that the covariance matrix of the errors is correctly specified.<br/>[2] The smallest eigenvalue is 3.97e-29. This might indicate that there are<br/>strong multicollinearity problems or that the design matrix is singular."
      ],
      "text/plain": [
       "<class 'statsmodels.iolib.summary.Summary'>\n",
       "\"\"\"\n",
       "                            OLS Regression Results                            \n",
       "==============================================================================\n",
       "Dep. Variable:      Item_Outlet_Sales   R-squared:                       0.563\n",
       "Model:                            OLS   Adj. R-squared:                  0.562\n",
       "Method:                 Least Squares   F-statistic:                     625.3\n",
       "Date:                Wed, 09 Nov 2022   Prob (F-statistic):               0.00\n",
       "Time:                        12:12:07   Log-Likelihood:                -57591.\n",
       "No. Observations:                6818   AIC:                         1.152e+05\n",
       "Df Residuals:                    6803   BIC:                         1.153e+05\n",
       "Df Model:                          14                                         \n",
       "Covariance Type:            nonrobust                                         \n",
       "=================================================================================================\n",
       "                                    coef    std err          t      P>|t|      [0.025      0.975]\n",
       "-------------------------------------------------------------------------------------------------\n",
       "const                         -2262.4149    208.976    -10.826      0.000   -2672.072   -1852.757\n",
       "Item_Weight                      -1.6263      2.956     -0.550      0.582      -7.421       4.169\n",
       "Item_Visibility                -192.7715    287.165     -0.671      0.502    -755.704     370.161\n",
       "Item_MRP                         15.5379      0.219     70.807      0.000      15.108      15.968\n",
       "Outlet_Size                     -25.1677     39.934     -0.630      0.529    -103.451      53.115\n",
       "Outlet_Location_Type            209.7639     76.892      2.728      0.006      59.032     360.495\n",
       "Outlet_Perf                     800.4936    264.035      3.032      0.002     282.902    1318.085\n",
       "Existence_Yr                    -34.9406     11.354     -3.077      0.002     -57.199     -12.682\n",
       "Item_Fat_Content_Non Edible      -1.8962     28.157     -0.067      0.946     -57.093      53.301\n",
       "Item_Fat_Content_Regular         34.6136     31.558      1.097      0.273     -27.251      96.478\n",
       "Outlet_Type_Supermarket Type1   724.5791    411.547      1.761      0.078     -82.181    1531.340\n",
       "Outlet_Type_Supermarket Type2   440.7998    395.835      1.114      0.265    -335.161    1216.760\n",
       "Outlet_Type_Supermarket Type3  2203.4894    393.528      5.599      0.000    1432.051    2974.927\n",
       "Item_Type_Cat_Perishables       -16.5628     31.437     -0.527      0.598     -78.188      45.063\n",
       "ItemID_Cat_FD                    31.8162     50.600      0.629      0.530     -67.375     131.008\n",
       "ItemID_Cat_NC                    -1.8962     28.157     -0.067      0.946     -57.093      53.301\n",
       "==============================================================================\n",
       "Omnibus:                      825.427   Durbin-Watson:                   1.969\n",
       "Prob(Omnibus):                  0.000   Jarque-Bera (JB):             2044.750\n",
       "Skew:                           0.698   Prob(JB):                         0.00\n",
       "Kurtosis:                       5.291   Cond. No.                     2.03e+18\n",
       "==============================================================================\n",
       "\n",
       "Notes:\n",
       "[1] Standard Errors assume that the covariance matrix of the errors is correctly specified.\n",
       "[2] The smallest eigenvalue is 3.97e-29. This might indicate that there are\n",
       "strong multicollinearity problems or that the design matrix is singular.\n",
       "\"\"\""
      ]
     },
     "execution_count": 92,
     "metadata": {},
     "output_type": "execute_result"
    }
   ],
   "source": [
    "temp_train=sma.add_constant(xtrain)\n",
    "\n",
    "model=sma.OLS(ytrain,temp_train).fit()\n",
    "\n",
    "model.summary()"
   ]
  },
  {
   "cell_type": "code",
   "execution_count": 169,
   "id": "074c62d3",
   "metadata": {},
   "outputs": [
    {
     "data": {
      "text/plain": [
       "<AxesSubplot:>"
      ]
     },
     "execution_count": 169,
     "metadata": {},
     "output_type": "execute_result"
    },
    {
     "data": {
      "image/png": "[encoded data removed]",
      "text/plain": [
       "<Figure size 1080x432 with 1 Axes>"
      ]
     },
     "metadata": {
      "needs_background": "light"
     },
     "output_type": "display_data"
    }
   ],
   "source": [
    "model.params.plot(kind='bar')"
   ]
  },
  {
   "cell_type": "code",
   "execution_count": 93,
   "id": "f24a263c",
   "metadata": {},
   "outputs": [],
   "source": [
    "from sklearn.metrics import mean_squared_error"
   ]
  },
  {
   "cell_type": "code",
   "execution_count": 98,
   "id": "2829df75",
   "metadata": {},
   "outputs": [
    {
     "data": {
      "text/plain": [
       "1130.5127334746635"
      ]
     },
     "execution_count": 98,
     "metadata": {},
     "output_type": "execute_result"
    }
   ],
   "source": [
    "temp_test=sma.add_constant(xtest)\n",
    "pred=model.predict(temp_test)\n",
    "rmse=np.sqrt(mean_squared_error(ytest,pred))\n",
    "rmse"
   ]
  },
  {
   "cell_type": "code",
   "execution_count": 137,
   "id": "73bf10fd",
   "metadata": {},
   "outputs": [
    {
     "data": {
      "text/html": [
       "<div>\n",
       "<style scoped>\n",
       "    .dataframe tbody tr th:only-of-type {\n",
       "        vertical-align: middle;\n",
       "    }\n",
       "\n",
       "    .dataframe tbody tr th {\n",
       "        vertical-align: top;\n",
       "    }\n",
       "\n",
       "    .dataframe thead th {\n",
       "        text-align: right;\n",
       "    }\n",
       "</style>\n",
       "<table border=\"1\" class=\"dataframe\">\n",
       "  <thead>\n",
       "    <tr style=\"text-align: right;\">\n",
       "      <th></th>\n",
       "      <th>Model_Name</th>\n",
       "      <th>R_Squared</th>\n",
       "      <th>RMSE</th>\n",
       "    </tr>\n",
       "  </thead>\n",
       "  <tbody>\n",
       "    <tr>\n",
       "      <th>0</th>\n",
       "      <td>sfs</td>\n",
       "      <td>0.830671</td>\n",
       "      <td>1141.960668</td>\n",
       "    </tr>\n",
       "    <tr>\n",
       "      <th>1</th>\n",
       "      <td>rfe</td>\n",
       "      <td>0.743368</td>\n",
       "      <td>1417.051116</td>\n",
       "    </tr>\n",
       "    <tr>\n",
       "      <th>2</th>\n",
       "      <td>sfs</td>\n",
       "      <td>0.830671</td>\n",
       "      <td>1141.960668</td>\n",
       "    </tr>\n",
       "    <tr>\n",
       "      <th>3</th>\n",
       "      <td>Linear Regression</td>\n",
       "      <td>0.562702</td>\n",
       "      <td>1130.512733</td>\n",
       "    </tr>\n",
       "  </tbody>\n",
       "</table>\n",
       "</div>"
      ],
      "text/plain": [
       "          Model_Name R_Squared         RMSE\n",
       "0                sfs  0.830671  1141.960668\n",
       "1                rfe  0.743368  1417.051116\n",
       "2                sfs  0.830671  1141.960668\n",
       "3  Linear Regression  0.562702  1130.512733"
      ]
     },
     "execution_count": 137,
     "metadata": {},
     "output_type": "execute_result"
    }
   ],
   "source": [
    "cols=['Model_Name','R_Squared','RMSE']\n",
    "df=pd.DataFrame(columns=cols)\n",
    "\n",
    "model_stats=pd.Series({'Model_Name':'Linear Regression','R_Squared':model.rsquared,'RMSE':rmse})\n",
    "\n",
    "result=result.append(model_stats,ignore_index=True)\n",
    "\n",
    "result"
   ]
  },
  {
   "cell_type": "code",
   "execution_count": null,
   "id": "27fbc9be",
   "metadata": {},
   "outputs": [],
   "source": []
  },
  {
   "cell_type": "markdown",
   "id": "fe840d43",
   "metadata": {},
   "source": [
    "#  Sequential feature selector"
   ]
  },
  {
   "cell_type": "code",
   "execution_count": 105,
   "id": "60e7d84d",
   "metadata": {},
   "outputs": [],
   "source": [
    "from mlxtend.feature_selection import SequentialFeatureSelector"
   ]
  },
  {
   "cell_type": "code",
   "execution_count": 106,
   "id": "e57477b9",
   "metadata": {},
   "outputs": [],
   "source": [
    "lr=LinearRegression()\n",
    "\n",
    "sfs=SequentialFeatureSelector(estimator=lr,k_features='best',forward=True,scoring='neg_mean_squared_error')"
   ]
  },
  {
   "cell_type": "code",
   "execution_count": 107,
   "id": "b3dd73f6",
   "metadata": {},
   "outputs": [
    {
     "data": {
      "text/plain": [
       "SequentialFeatureSelector(estimator=LinearRegression(), k_features=(1, 15),\n",
       "                          scoring='neg_mean_squared_error')"
      ]
     },
     "execution_count": 107,
     "metadata": {},
     "output_type": "execute_result"
    }
   ],
   "source": [
    "sfs.fit(x,y)"
   ]
  },
  {
   "cell_type": "code",
   "execution_count": 108,
   "id": "47a5a158",
   "metadata": {},
   "outputs": [
    {
     "data": {
      "text/plain": [
       "('Item_MRP',\n",
       " 'Outlet_Size',\n",
       " 'Outlet_Location_Type',\n",
       " 'Outlet_Perf',\n",
       " 'Existence_Yr',\n",
       " 'Item_Fat_Content_Regular',\n",
       " 'Outlet_Type_Supermarket Type1',\n",
       " 'Outlet_Type_Supermarket Type2',\n",
       " 'Outlet_Type_Supermarket Type3')"
      ]
     },
     "execution_count": 108,
     "metadata": {},
     "output_type": "execute_result"
    }
   ],
   "source": [
    "sfs.k_feature_names_"
   ]
  },
  {
   "cell_type": "code",
   "execution_count": 109,
   "id": "b225a288",
   "metadata": {},
   "outputs": [],
   "source": [
    "sfs_feat=xtrain.loc[:,sfs.k_feature_names_]\n",
    "sfs_test=xtest.loc[:,sfs.k_feature_names_]"
   ]
  },
  {
   "cell_type": "code",
   "execution_count": 113,
   "id": "125a5c9a",
   "metadata": {},
   "outputs": [],
   "source": [
    "\n",
    "#build the model\n",
    "\n",
    "\n",
    "\n",
    "sfsmodel=sma.OLS(ytrain,sfs_feat).fit()"
   ]
  },
  {
   "cell_type": "code",
   "execution_count": 112,
   "id": "3c35e526",
   "metadata": {},
   "outputs": [
    {
     "data": {
      "text/html": [
       "<table class=\"simpletable\">\n",
       "<caption>OLS Regression Results</caption>\n",
       "<tr>\n",
       "  <th>Dep. Variable:</th>    <td>Item_Outlet_Sales</td> <th>  R-squared (uncentered):</th>      <td>   0.831</td> \n",
       "</tr>\n",
       "<tr>\n",
       "  <th>Model:</th>                   <td>OLS</td>        <th>  Adj. R-squared (uncentered):</th> <td>   0.830</td> \n",
       "</tr>\n",
       "<tr>\n",
       "  <th>Method:</th>             <td>Least Squares</td>   <th>  F-statistic:       </th>          <td>   3711.</td> \n",
       "</tr>\n",
       "<tr>\n",
       "  <th>Date:</th>             <td>Wed, 09 Nov 2022</td>  <th>  Prob (F-statistic):</th>           <td>  0.00</td>  \n",
       "</tr>\n",
       "<tr>\n",
       "  <th>Time:</th>                 <td>12:54:22</td>      <th>  Log-Likelihood:    </th>          <td> -57656.</td> \n",
       "</tr>\n",
       "<tr>\n",
       "  <th>No. Observations:</th>      <td>  6818</td>       <th>  AIC:               </th>          <td>1.153e+05</td>\n",
       "</tr>\n",
       "<tr>\n",
       "  <th>Df Residuals:</th>          <td>  6809</td>       <th>  BIC:               </th>          <td>1.154e+05</td>\n",
       "</tr>\n",
       "<tr>\n",
       "  <th>Df Model:</th>              <td>     9</td>       <th>                     </th>              <td> </td>    \n",
       "</tr>\n",
       "<tr>\n",
       "  <th>Covariance Type:</th>      <td>nonrobust</td>     <th>                     </th>              <td> </td>    \n",
       "</tr>\n",
       "</table>\n",
       "<table class=\"simpletable\">\n",
       "<tr>\n",
       "                <td></td>                   <th>coef</th>     <th>std err</th>      <th>t</th>      <th>P>|t|</th>  <th>[0.025</th>    <th>0.975]</th>  \n",
       "</tr>\n",
       "<tr>\n",
       "  <th>Item_MRP</th>                      <td>   15.1351</td> <td>    0.218</td> <td>   69.380</td> <td> 0.000</td> <td>   14.707</td> <td>   15.563</td>\n",
       "</tr>\n",
       "<tr>\n",
       "  <th>Outlet_Size</th>                   <td>  -67.2223</td> <td>   40.125</td> <td>   -1.675</td> <td> 0.094</td> <td> -145.879</td> <td>   11.435</td>\n",
       "</tr>\n",
       "<tr>\n",
       "  <th>Outlet_Location_Type</th>          <td> -599.4627</td> <td>   30.378</td> <td>  -19.733</td> <td> 0.000</td> <td> -659.014</td> <td> -539.912</td>\n",
       "</tr>\n",
       "<tr>\n",
       "  <th>Outlet_Perf</th>                   <td>-1932.3670</td> <td>  113.182</td> <td>  -17.073</td> <td> 0.000</td> <td>-2154.239</td> <td>-1710.495</td>\n",
       "</tr>\n",
       "<tr>\n",
       "  <th>Existence_Yr</th>                  <td>   69.5844</td> <td>    6.791</td> <td>   10.246</td> <td> 0.000</td> <td>   56.271</td> <td>   82.898</td>\n",
       "</tr>\n",
       "<tr>\n",
       "  <th>Item_Fat_Content_Regular</th>      <td>   33.0899</td> <td>   28.831</td> <td>    1.148</td> <td> 0.251</td> <td>  -23.429</td> <td>   89.609</td>\n",
       "</tr>\n",
       "<tr>\n",
       "  <th>Outlet_Type_Supermarket Type1</th> <td> 4818.7733</td> <td>  205.596</td> <td>   23.438</td> <td> 0.000</td> <td> 4415.741</td> <td> 5221.806</td>\n",
       "</tr>\n",
       "<tr>\n",
       "  <th>Outlet_Type_Supermarket Type2</th> <td> 4159.8961</td> <td>  228.310</td> <td>   18.220</td> <td> 0.000</td> <td> 3712.338</td> <td> 4607.455</td>\n",
       "</tr>\n",
       "<tr>\n",
       "  <th>Outlet_Type_Supermarket Type3</th> <td> 6147.0523</td> <td>  192.207</td> <td>   31.981</td> <td> 0.000</td> <td> 5770.267</td> <td> 6523.838</td>\n",
       "</tr>\n",
       "</table>\n",
       "<table class=\"simpletable\">\n",
       "<tr>\n",
       "  <th>Omnibus:</th>       <td>875.534</td> <th>  Durbin-Watson:     </th> <td>   1.965</td>\n",
       "</tr>\n",
       "<tr>\n",
       "  <th>Prob(Omnibus):</th> <td> 0.000</td>  <th>  Jarque-Bera (JB):  </th> <td>2131.305</td>\n",
       "</tr>\n",
       "<tr>\n",
       "  <th>Skew:</th>          <td> 0.741</td>  <th>  Prob(JB):          </th> <td>    0.00</td>\n",
       "</tr>\n",
       "<tr>\n",
       "  <th>Kurtosis:</th>      <td> 5.303</td>  <th>  Cond. No.          </th> <td>4.15e+03</td>\n",
       "</tr>\n",
       "</table><br/><br/>Notes:<br/>[1] R² is computed without centering (uncentered) since the model does not contain a constant.<br/>[2] Standard Errors assume that the covariance matrix of the errors is correctly specified.<br/>[3] The condition number is large, 4.15e+03. This might indicate that there are<br/>strong multicollinearity or other numerical problems."
      ],
      "text/plain": [
       "<class 'statsmodels.iolib.summary.Summary'>\n",
       "\"\"\"\n",
       "                                 OLS Regression Results                                \n",
       "=======================================================================================\n",
       "Dep. Variable:      Item_Outlet_Sales   R-squared (uncentered):                   0.831\n",
       "Model:                            OLS   Adj. R-squared (uncentered):              0.830\n",
       "Method:                 Least Squares   F-statistic:                              3711.\n",
       "Date:                Wed, 09 Nov 2022   Prob (F-statistic):                        0.00\n",
       "Time:                        12:54:22   Log-Likelihood:                         -57656.\n",
       "No. Observations:                6818   AIC:                                  1.153e+05\n",
       "Df Residuals:                    6809   BIC:                                  1.154e+05\n",
       "Df Model:                           9                                                  \n",
       "Covariance Type:            nonrobust                                                  \n",
       "=================================================================================================\n",
       "                                    coef    std err          t      P>|t|      [0.025      0.975]\n",
       "-------------------------------------------------------------------------------------------------\n",
       "Item_MRP                         15.1351      0.218     69.380      0.000      14.707      15.563\n",
       "Outlet_Size                     -67.2223     40.125     -1.675      0.094    -145.879      11.435\n",
       "Outlet_Location_Type           -599.4627     30.378    -19.733      0.000    -659.014    -539.912\n",
       "Outlet_Perf                   -1932.3670    113.182    -17.073      0.000   -2154.239   -1710.495\n",
       "Existence_Yr                     69.5844      6.791     10.246      0.000      56.271      82.898\n",
       "Item_Fat_Content_Regular         33.0899     28.831      1.148      0.251     -23.429      89.609\n",
       "Outlet_Type_Supermarket Type1  4818.7733    205.596     23.438      0.000    4415.741    5221.806\n",
       "Outlet_Type_Supermarket Type2  4159.8961    228.310     18.220      0.000    3712.338    4607.455\n",
       "Outlet_Type_Supermarket Type3  6147.0523    192.207     31.981      0.000    5770.267    6523.838\n",
       "==============================================================================\n",
       "Omnibus:                      875.534   Durbin-Watson:                   1.965\n",
       "Prob(Omnibus):                  0.000   Jarque-Bera (JB):             2131.305\n",
       "Skew:                           0.741   Prob(JB):                         0.00\n",
       "Kurtosis:                       5.303   Cond. No.                     4.15e+03\n",
       "==============================================================================\n",
       "\n",
       "Notes:\n",
       "[1] R² is computed without centering (uncentered) since the model does not contain a constant.\n",
       "[2] Standard Errors assume that the covariance matrix of the errors is correctly specified.\n",
       "[3] The condition number is large, 4.15e+03. This might indicate that there are\n",
       "strong multicollinearity or other numerical problems.\n",
       "\"\"\""
      ]
     },
     "execution_count": 112,
     "metadata": {},
     "output_type": "execute_result"
    }
   ],
   "source": [
    "sfsmodel.summary()"
   ]
  },
  {
   "cell_type": "code",
   "execution_count": 114,
   "id": "8bd53bee",
   "metadata": {},
   "outputs": [],
   "source": [
    "pred=sfsmodel.predict(sfs_test)\n",
    "\n",
    "sfs_rmse=np.sqrt(mean_squared_error(ytest,pred))"
   ]
  },
  {
   "cell_type": "code",
   "execution_count": 115,
   "id": "5d38c4f3",
   "metadata": {},
   "outputs": [
    {
     "data": {
      "text/plain": [
       "1141.9606676586984"
      ]
     },
     "execution_count": 115,
     "metadata": {},
     "output_type": "execute_result"
    }
   ],
   "source": [
    "sfs_rmse"
   ]
  },
  {
   "cell_type": "code",
   "execution_count": 135,
   "id": "d6f0bc09",
   "metadata": {},
   "outputs": [
    {
     "data": {
      "text/html": [
       "<div>\n",
       "<style scoped>\n",
       "    .dataframe tbody tr th:only-of-type {\n",
       "        vertical-align: middle;\n",
       "    }\n",
       "\n",
       "    .dataframe tbody tr th {\n",
       "        vertical-align: top;\n",
       "    }\n",
       "\n",
       "    .dataframe thead th {\n",
       "        text-align: right;\n",
       "    }\n",
       "</style>\n",
       "<table border=\"1\" class=\"dataframe\">\n",
       "  <thead>\n",
       "    <tr style=\"text-align: right;\">\n",
       "      <th></th>\n",
       "      <th>Model_Name</th>\n",
       "      <th>R_Squared</th>\n",
       "      <th>RMSE</th>\n",
       "    </tr>\n",
       "  </thead>\n",
       "  <tbody>\n",
       "    <tr>\n",
       "      <th>0</th>\n",
       "      <td>sfs</td>\n",
       "      <td>0.830671</td>\n",
       "      <td>1141.960668</td>\n",
       "    </tr>\n",
       "    <tr>\n",
       "      <th>1</th>\n",
       "      <td>rfe</td>\n",
       "      <td>0.743368</td>\n",
       "      <td>1417.051116</td>\n",
       "    </tr>\n",
       "    <tr>\n",
       "      <th>2</th>\n",
       "      <td>sfs</td>\n",
       "      <td>0.830671</td>\n",
       "      <td>1141.960668</td>\n",
       "    </tr>\n",
       "  </tbody>\n",
       "</table>\n",
       "</div>"
      ],
      "text/plain": [
       "  Model_Name R_Squared         RMSE\n",
       "0        sfs  0.830671  1141.960668\n",
       "1        rfe  0.743368  1417.051116\n",
       "2        sfs  0.830671  1141.960668"
      ]
     },
     "execution_count": 135,
     "metadata": {},
     "output_type": "execute_result"
    }
   ],
   "source": [
    "#cols=['Model_Name','R_Squared','RMSE']\n",
    "#df=pd.DataFrame(columns=cols)\n",
    "\n",
    "model_stats=pd.Series({'Model_Name':'sfs','R_Squared':sfsmodel.rsquared,'RMSE':sfs_rmse})\n",
    "\n",
    "result=result.append(model_stats,ignore_index=True)\n",
    "\n",
    "result"
   ]
  },
  {
   "cell_type": "code",
   "execution_count": 120,
   "id": "4523b7af",
   "metadata": {},
   "outputs": [],
   "source": [
    "from sklearn.feature_selection import RFE\n",
    "\n",
    "lr=LinearRegression()\n",
    "\n",
    "rfe=RFE(estimator=lr,n_features_to_select=5)"
   ]
  },
  {
   "cell_type": "code",
   "execution_count": 121,
   "id": "7de4589b",
   "metadata": {},
   "outputs": [
    {
     "data": {
      "text/plain": [
       "RFE(estimator=LinearRegression(), n_features_to_select=5)"
      ]
     },
     "execution_count": 121,
     "metadata": {},
     "output_type": "execute_result"
    }
   ],
   "source": [
    "rfe.fit(x,y)"
   ]
  },
  {
   "cell_type": "code",
   "execution_count": 122,
   "id": "c41095b8",
   "metadata": {},
   "outputs": [
    {
     "data": {
      "text/plain": [
       "Item_Weight                      11\n",
       "Item_Fat_Content_Non Edible      10\n",
       "ItemID_Cat_NC                     9\n",
       "Item_Type_Cat_Perishables         8\n",
       "Item_MRP                          7\n",
       "Existence_Yr                      6\n",
       "Outlet_Location_Type              5\n",
       "Item_Fat_Content_Regular          4\n",
       "Outlet_Size                       3\n",
       "Outlet_Perf                       2\n",
       "Item_Visibility                   1\n",
       "Outlet_Type_Supermarket Type1     1\n",
       "Outlet_Type_Supermarket Type2     1\n",
       "Outlet_Type_Supermarket Type3     1\n",
       "ItemID_Cat_FD                     1\n",
       "dtype: int32"
      ]
     },
     "execution_count": 122,
     "metadata": {},
     "output_type": "execute_result"
    }
   ],
   "source": [
    "pd.Series(rfe.ranking_,index=x.columns).sort_values(ascending=False)"
   ]
  },
  {
   "cell_type": "code",
   "execution_count": 126,
   "id": "0383ce34",
   "metadata": {},
   "outputs": [],
   "source": [
    "feats=pd.Series(rfe.ranking_,index=x.columns).sort_values(ascending=False)[:5].index"
   ]
  },
  {
   "cell_type": "code",
   "execution_count": 127,
   "id": "7de3053a",
   "metadata": {},
   "outputs": [],
   "source": [
    "rfe_feat=xtrain.loc[:,feats]\n",
    "rfe_test=xtest.loc[:,feats]"
   ]
  },
  {
   "cell_type": "code",
   "execution_count": 128,
   "id": "be020554",
   "metadata": {},
   "outputs": [],
   "source": [
    "rfemodel=sma.OLS(ytrain,rfe_feat).fit()\n",
    "pred=rfemodel.predict(rfe_test)\n",
    "\n",
    "rmse_rfe=np.sqrt(mean_squared_error(ytest,pred))"
   ]
  },
  {
   "cell_type": "code",
   "execution_count": 129,
   "id": "47312d4e",
   "metadata": {},
   "outputs": [
    {
     "data": {
      "text/plain": [
       "1417.0511155390593"
      ]
     },
     "execution_count": 129,
     "metadata": {},
     "output_type": "execute_result"
    }
   ],
   "source": [
    "rmse_rfe"
   ]
  },
  {
   "cell_type": "code",
   "execution_count": 131,
   "id": "c7e2cdbb",
   "metadata": {},
   "outputs": [
    {
     "data": {
      "text/html": [
       "<div>\n",
       "<style scoped>\n",
       "    .dataframe tbody tr th:only-of-type {\n",
       "        vertical-align: middle;\n",
       "    }\n",
       "\n",
       "    .dataframe tbody tr th {\n",
       "        vertical-align: top;\n",
       "    }\n",
       "\n",
       "    .dataframe thead th {\n",
       "        text-align: right;\n",
       "    }\n",
       "</style>\n",
       "<table border=\"1\" class=\"dataframe\">\n",
       "  <thead>\n",
       "    <tr style=\"text-align: right;\">\n",
       "      <th></th>\n",
       "      <th>Model_Name</th>\n",
       "      <th>R_Squared</th>\n",
       "      <th>RMSE</th>\n",
       "    </tr>\n",
       "  </thead>\n",
       "  <tbody>\n",
       "    <tr>\n",
       "      <th>0</th>\n",
       "      <td>sfs</td>\n",
       "      <td>0.830671</td>\n",
       "      <td>1141.960668</td>\n",
       "    </tr>\n",
       "    <tr>\n",
       "      <th>1</th>\n",
       "      <td>sfs</td>\n",
       "      <td>0.743368</td>\n",
       "      <td>1417.051116</td>\n",
       "    </tr>\n",
       "    <tr>\n",
       "      <th>2</th>\n",
       "      <td>rfe</td>\n",
       "      <td>0.743368</td>\n",
       "      <td>1417.051116</td>\n",
       "    </tr>\n",
       "  </tbody>\n",
       "</table>\n",
       "</div>"
      ],
      "text/plain": [
       "  Model_Name R_Squared         RMSE\n",
       "0        sfs  0.830671  1141.960668\n",
       "1        sfs  0.743368  1417.051116\n",
       "2        rfe  0.743368  1417.051116"
      ]
     },
     "execution_count": 131,
     "metadata": {},
     "output_type": "execute_result"
    }
   ],
   "source": [
    "model_stats=pd.Series({'Model_Name':'rfe','R_Squared':rfemodel.rsquared,'RMSE':rmse_rfe})\n",
    "\n",
    "result=result.append(model_stats,ignore_index=True)\n",
    "\n",
    "result"
   ]
  },
  {
   "cell_type": "code",
   "execution_count": 139,
   "id": "a5adbf23",
   "metadata": {},
   "outputs": [
    {
     "data": {
      "text/html": [
       "<div>\n",
       "<style scoped>\n",
       "    .dataframe tbody tr th:only-of-type {\n",
       "        vertical-align: middle;\n",
       "    }\n",
       "\n",
       "    .dataframe tbody tr th {\n",
       "        vertical-align: top;\n",
       "    }\n",
       "\n",
       "    .dataframe thead th {\n",
       "        text-align: right;\n",
       "    }\n",
       "</style>\n",
       "<table border=\"1\" class=\"dataframe\">\n",
       "  <thead>\n",
       "    <tr style=\"text-align: right;\">\n",
       "      <th></th>\n",
       "      <th>Model_Name</th>\n",
       "      <th>R_Squared</th>\n",
       "      <th>RMSE</th>\n",
       "    </tr>\n",
       "  </thead>\n",
       "  <tbody>\n",
       "    <tr>\n",
       "      <th>0</th>\n",
       "      <td>sfs</td>\n",
       "      <td>0.830671</td>\n",
       "      <td>1141.960668</td>\n",
       "    </tr>\n",
       "    <tr>\n",
       "      <th>1</th>\n",
       "      <td>rfe</td>\n",
       "      <td>0.743368</td>\n",
       "      <td>1417.051116</td>\n",
       "    </tr>\n",
       "    <tr>\n",
       "      <th>2</th>\n",
       "      <td>sfs</td>\n",
       "      <td>0.830671</td>\n",
       "      <td>1141.960668</td>\n",
       "    </tr>\n",
       "    <tr>\n",
       "      <th>3</th>\n",
       "      <td>Linear Regression</td>\n",
       "      <td>0.562702</td>\n",
       "      <td>1130.512733</td>\n",
       "    </tr>\n",
       "  </tbody>\n",
       "</table>\n",
       "</div>"
      ],
      "text/plain": [
       "          Model_Name R_Squared         RMSE\n",
       "0                sfs  0.830671  1141.960668\n",
       "1                rfe  0.743368  1417.051116\n",
       "2                sfs  0.830671  1141.960668\n",
       "3  Linear Regression  0.562702  1130.512733"
      ]
     },
     "execution_count": 139,
     "metadata": {},
     "output_type": "execute_result"
    }
   ],
   "source": [
    "result"
   ]
  },
  {
   "cell_type": "markdown",
   "id": "039f612a",
   "metadata": {},
   "source": [
    "### K fold cross validation model"
   ]
  },
  {
   "cell_type": "code",
   "execution_count": 141,
   "id": "f3dbc8e8",
   "metadata": {},
   "outputs": [],
   "source": [
    "from sklearn.model_selection import KFold"
   ]
  },
  {
   "cell_type": "code",
   "execution_count": 142,
   "id": "162eb8f8",
   "metadata": {},
   "outputs": [],
   "source": [
    "from sklearn.metrics import r2_score"
   ]
  },
  {
   "cell_type": "code",
   "execution_count": 149,
   "id": "32ab8dcc",
   "metadata": {},
   "outputs": [],
   "source": [
    "kf=KFold(n_splits=5,shuffle=True,random_state=0)\n",
    "\n",
    "\n",
    "lr=LinearRegression()\n",
    "predictions=[]\n",
    "\n",
    "for train_index,test_index in kf.split(x,y):\n",
    "    #print(train_index,test_index)\n",
    "    kf_xtrain=x.loc[train_index]\n",
    "    kf_xtest=x.loc[test_index]\n",
    "    kf_ytrain=y.loc[train_index]\n",
    "    kf_ytest=y.loc[test_index]\n",
    "    \n",
    "    #print(kf_xtrain.shape,kf_ytrain.shape,kf_xtest.shape,kf_ytest.shape)\n",
    "    \n",
    "    predictions.append(lr.fit(kf_xtrain,kf_ytrain).predict(dummy_test))"
   ]
  },
  {
   "cell_type": "code",
   "execution_count": 154,
   "id": "2071751d",
   "metadata": {},
   "outputs": [],
   "source": [
    "pred=pd.DataFrame(predictions).T.mean(axis=1)"
   ]
  },
  {
   "cell_type": "code",
   "execution_count": 158,
   "id": "154ebd66",
   "metadata": {},
   "outputs": [],
   "source": [
    "#submission\n",
    "\n",
    "sub['Item_Outlet_Sales']=np.abs(pred)\n",
    "\n",
    "sub.to_csv('KFOLDMODEL.csv',index=False)"
   ]
  },
  {
   "cell_type": "code",
   "execution_count": 159,
   "id": "6a859060",
   "metadata": {},
   "outputs": [
    {
     "name": "stdout",
     "output_type": "stream",
     "text": [
      "C:\\Users\\Ashwin\n"
     ]
    }
   ],
   "source": [
    "cd"
   ]
  },
  {
   "cell_type": "code",
   "execution_count": 160,
   "id": "170ae1a8",
   "metadata": {},
   "outputs": [],
   "source": [
    "#random forest\n",
    "kf=KFold(n_splits=5,shuffle=True,random_state=0)\n",
    "\n",
    "\n",
    "lr=RandomForestRegressor()\n",
    "predictions=[]\n",
    "\n",
    "for train_index,test_index in kf.split(x,y):\n",
    "    #print(train_index,test_index)\n",
    "    kf_xtrain=x.loc[train_index]\n",
    "    kf_xtest=x.loc[test_index]\n",
    "    kf_ytrain=y.loc[train_index]\n",
    "    kf_ytest=y.loc[test_index]\n",
    "    \n",
    "    #print(kf_xtrain.shape,kf_ytrain.shape,kf_xtest.shape,kf_ytest.shape)\n",
    "    \n",
    "    predictions.append(lr.fit(kf_xtrain,kf_ytrain).predict(dummy_test))"
   ]
  },
  {
   "cell_type": "code",
   "execution_count": 161,
   "id": "99256f27",
   "metadata": {},
   "outputs": [],
   "source": [
    "pred=pd.DataFrame(predictions).T.mean(axis=1)"
   ]
  },
  {
   "cell_type": "code",
   "execution_count": 162,
   "id": "9de4b4f1",
   "metadata": {},
   "outputs": [],
   "source": [
    "#submission\n",
    "\n",
    "sub['Item_Outlet_Sales']=np.abs(pred)\n",
    "\n",
    "sub.to_csv('KFOLDMODEL_rsf.csv',index=False)"
   ]
  },
  {
   "cell_type": "code",
   "execution_count": 166,
   "id": "815d221c",
   "metadata": {},
   "outputs": [],
   "source": [
    "kf=KFold(n_splits=10,shuffle=True,random_state=0)\n",
    "\n",
    "\n",
    "lr=RandomForestRegressor()\n",
    "predictions=[]\n",
    "\n",
    "for train_index,test_index in kf.split(x,y):\n",
    "    #print(train_index,test_index)\n",
    "    kf_xtrain=x.loc[train_index]\n",
    "    kf_xtest=x.loc[test_index]\n",
    "    kf_ytrain=y.loc[train_index]\n",
    "    kf_ytest=y.loc[test_index]\n",
    "    \n",
    "    #print(kf_xtrain.shape,kf_ytrain.shape,kf_xtest.shape,kf_ytest.shape)\n",
    "    \n",
    "    predictions.append(lr.fit(kf_xtrain,kf_ytrain).predict(dummy_test))"
   ]
  },
  {
   "cell_type": "code",
   "execution_count": 167,
   "id": "ddcf9e12",
   "metadata": {},
   "outputs": [],
   "source": [
    "pred=pd.DataFrame(predictions).T.mean(axis=1)"
   ]
  },
  {
   "cell_type": "code",
   "execution_count": 168,
   "id": "81fc19e6",
   "metadata": {},
   "outputs": [],
   "source": [
    "#submission\n",
    "\n",
    "sub['Item_Outlet_Sales']=np.abs(pred)\n",
    "\n",
    "sub.to_csv('KFOLDMODEL100_rsf.csv',index=False)"
   ]
  },
  {
   "cell_type": "markdown",
   "id": "f8a56abe",
   "metadata": {},
   "source": [
    "# Day 3"
   ]
  },
  {
   "cell_type": "code",
   "execution_count": 22,
   "id": "dddc8cd2",
   "metadata": {},
   "outputs": [
    {
     "data": {
      "text/plain": [
       "<AxesSubplot:>"
      ]
     },
     "execution_count": 22,
     "metadata": {},
     "output_type": "execute_result"
    },
    {
     "data": {
      "image/png": "[encoded data removed]",
      "text/plain": [
       "<Figure size 1080x432 with 1 Axes>"
      ]
     },
     "metadata": {
      "needs_background": "light"
     },
     "output_type": "display_data"
    }
   ],
   "source": [
    "from sklearn.linear_model import Ridge,Lasso,ElasticNet\n",
    "ridge=Ridge()\n",
    "lasso=Lasso()\n",
    "enet=ElasticNet()\n",
    "pred_ridge=ridge.fit(x,y).predict(dummy_test)\n",
    "pd.DataFrame(lr.coef_,x.columns).plot(kind='bar')"
   ]
  },
  {
   "cell_type": "code",
   "execution_count": 23,
   "id": "1b304711",
   "metadata": {},
   "outputs": [],
   "source": [
    "from sklearn.model_selection import GridSearchCV"
   ]
  },
  {
   "cell_type": "code",
   "execution_count": 24,
   "id": "d7e7e4e0",
   "metadata": {},
   "outputs": [],
   "source": [
    "ridge=()\n",
    "params=({'alpha':[0.1,0.5,0.9,1,2,3,5,7,8,9,10]})\n",
    "grid=GridSearchCV(estimator=ridge ,param_grid=params ,cv=5)"
   ]
  },
  {
   "cell_type": "code",
   "execution_count": 25,
   "id": "a059df13",
   "metadata": {},
   "outputs": [
    {
     "ename": "TypeError",
     "evalue": "not enough arguments for format string",
     "output_type": "error",
     "traceback": [
      "\u001b[1;31m---------------------------------------------------------------------------\u001b[0m",
      "\u001b[1;31mTypeError\u001b[0m                                 Traceback (most recent call last)",
      "Input \u001b[1;32mIn [25]\u001b[0m, in \u001b[0;36m<cell line: 5>\u001b[1;34m()\u001b[0m\n\u001b[0;32m      1\u001b[0m \u001b[38;5;66;03m#pass the grid search on the data\u001b[39;00m\n\u001b[0;32m      2\u001b[0m \n\u001b[0;32m      3\u001b[0m \u001b[38;5;66;03m#optuna , genetic algorithm\u001b[39;00m\n\u001b[1;32m----> 5\u001b[0m \u001b[43mgrid\u001b[49m\u001b[38;5;241;43m.\u001b[39;49m\u001b[43mfit\u001b[49m\u001b[43m(\u001b[49m\u001b[43mx\u001b[49m\u001b[43m,\u001b[49m\u001b[43my\u001b[49m\u001b[43m)\u001b[49m\n",
      "File \u001b[1;32m~\\Anaconda3\\lib\\site-packages\\sklearn\\model_selection\\_search.py:793\u001b[0m, in \u001b[0;36mBaseSearchCV.fit\u001b[1;34m(self, X, y, groups, **fit_params)\u001b[0m\n\u001b[0;32m    791\u001b[0m     scorers \u001b[38;5;241m=\u001b[39m \u001b[38;5;28mself\u001b[39m\u001b[38;5;241m.\u001b[39mscoring\n\u001b[0;32m    792\u001b[0m \u001b[38;5;28;01melif\u001b[39;00m \u001b[38;5;28mself\u001b[39m\u001b[38;5;241m.\u001b[39mscoring \u001b[38;5;129;01mis\u001b[39;00m \u001b[38;5;28;01mNone\u001b[39;00m \u001b[38;5;129;01mor\u001b[39;00m \u001b[38;5;28misinstance\u001b[39m(\u001b[38;5;28mself\u001b[39m\u001b[38;5;241m.\u001b[39mscoring, \u001b[38;5;28mstr\u001b[39m):\n\u001b[1;32m--> 793\u001b[0m     scorers \u001b[38;5;241m=\u001b[39m \u001b[43mcheck_scoring\u001b[49m\u001b[43m(\u001b[49m\u001b[38;5;28;43mself\u001b[39;49m\u001b[38;5;241;43m.\u001b[39;49m\u001b[43mestimator\u001b[49m\u001b[43m,\u001b[49m\u001b[43m \u001b[49m\u001b[38;5;28;43mself\u001b[39;49m\u001b[38;5;241;43m.\u001b[39;49m\u001b[43mscoring\u001b[49m\u001b[43m)\u001b[49m\n\u001b[0;32m    794\u001b[0m \u001b[38;5;28;01melse\u001b[39;00m:\n\u001b[0;32m    795\u001b[0m     scorers \u001b[38;5;241m=\u001b[39m _check_multimetric_scoring(\u001b[38;5;28mself\u001b[39m\u001b[38;5;241m.\u001b[39mestimator, \u001b[38;5;28mself\u001b[39m\u001b[38;5;241m.\u001b[39mscoring)\n",
      "File \u001b[1;32m~\\Anaconda3\\lib\\site-packages\\sklearn\\metrics\\_scorer.py:449\u001b[0m, in \u001b[0;36mcheck_scoring\u001b[1;34m(estimator, scoring, allow_none)\u001b[0m\n\u001b[0;32m    422\u001b[0m \u001b[38;5;124;03m\"\"\"Determine scorer from user options.\u001b[39;00m\n\u001b[0;32m    423\u001b[0m \n\u001b[0;32m    424\u001b[0m \u001b[38;5;124;03mA TypeError will be thrown if the estimator cannot be scored.\u001b[39;00m\n\u001b[1;32m   (...)\u001b[0m\n\u001b[0;32m    445\u001b[0m \u001b[38;5;124;03m    ``scorer(estimator, X, y)``.\u001b[39;00m\n\u001b[0;32m    446\u001b[0m \u001b[38;5;124;03m\"\"\"\u001b[39;00m\n\u001b[0;32m    447\u001b[0m \u001b[38;5;28;01mif\u001b[39;00m \u001b[38;5;129;01mnot\u001b[39;00m \u001b[38;5;28mhasattr\u001b[39m(estimator, \u001b[38;5;124m\"\u001b[39m\u001b[38;5;124mfit\u001b[39m\u001b[38;5;124m\"\u001b[39m):\n\u001b[0;32m    448\u001b[0m     \u001b[38;5;28;01mraise\u001b[39;00m \u001b[38;5;167;01mTypeError\u001b[39;00m(\n\u001b[1;32m--> 449\u001b[0m         \u001b[38;5;124;43m\"\u001b[39;49m\u001b[38;5;124;43mestimator should be an estimator implementing \u001b[39;49m\u001b[38;5;124;43m'\u001b[39;49m\u001b[38;5;124;43mfit\u001b[39;49m\u001b[38;5;124;43m'\u001b[39;49m\u001b[38;5;124;43m method, \u001b[39;49m\u001b[38;5;132;43;01m%r\u001b[39;49;00m\u001b[38;5;124;43m was passed\u001b[39;49m\u001b[38;5;124;43m\"\u001b[39;49m\n\u001b[0;32m    450\u001b[0m \u001b[43m        \u001b[49m\u001b[38;5;241;43m%\u001b[39;49m\u001b[43m \u001b[49m\u001b[43mestimator\u001b[49m\n\u001b[0;32m    451\u001b[0m     )\n\u001b[0;32m    452\u001b[0m \u001b[38;5;28;01mif\u001b[39;00m \u001b[38;5;28misinstance\u001b[39m(scoring, \u001b[38;5;28mstr\u001b[39m):\n\u001b[0;32m    453\u001b[0m     \u001b[38;5;28;01mreturn\u001b[39;00m get_scorer(scoring)\n",
      "\u001b[1;31mTypeError\u001b[0m: not enough arguments for format string"
     ]
    }
   ],
   "source": [
    "#pass the grid search on the data\n",
    "\n",
    "#optuna , genetic algorithm\n",
    "\n",
    "grid.fit(x,y)"
   ]
  },
  {
   "cell_type": "code",
   "execution_count": 26,
   "id": "45166ff3",
   "metadata": {},
   "outputs": [],
   "source": [
    "#build the final model for submission\n",
    "\n",
    "ridge=Ridge(alpha=0.1,normalize=True)\n",
    "\n",
    "finalpred=ridge.fit(x,y).predict(dummy_test)\n",
    "\n",
    "sub=pd.read_csv('Submission.csv')\n"
   ]
  },
  {
   "cell_type": "code",
   "execution_count": 28,
   "id": "287781cc",
   "metadata": {},
   "outputs": [],
   "source": [
    "sub['Item_Outlet_Sales']=np.abs(finalpred)"
   ]
  },
  {
   "cell_type": "code",
   "execution_count": 29,
   "id": "78788b8f",
   "metadata": {},
   "outputs": [
    {
     "data": {
      "text/html": [
       "<div>\n",
       "<style scoped>\n",
       "    .dataframe tbody tr th:only-of-type {\n",
       "        vertical-align: middle;\n",
       "    }\n",
       "\n",
       "    .dataframe tbody tr th {\n",
       "        vertical-align: top;\n",
       "    }\n",
       "\n",
       "    .dataframe thead th {\n",
       "        text-align: right;\n",
       "    }\n",
       "</style>\n",
       "<table border=\"1\" class=\"dataframe\">\n",
       "  <thead>\n",
       "    <tr style=\"text-align: right;\">\n",
       "      <th></th>\n",
       "      <th>Item_Identifier</th>\n",
       "      <th>Outlet_Identifier</th>\n",
       "      <th>Item_Outlet_Sales</th>\n",
       "    </tr>\n",
       "  </thead>\n",
       "  <tbody>\n",
       "    <tr>\n",
       "      <th>0</th>\n",
       "      <td>FDW58</td>\n",
       "      <td>OUT049</td>\n",
       "      <td>1836.868568</td>\n",
       "    </tr>\n",
       "    <tr>\n",
       "      <th>1</th>\n",
       "      <td>FDW14</td>\n",
       "      <td>OUT017</td>\n",
       "      <td>1670.323792</td>\n",
       "    </tr>\n",
       "    <tr>\n",
       "      <th>2</th>\n",
       "      <td>NCN55</td>\n",
       "      <td>OUT010</td>\n",
       "      <td>1974.906904</td>\n",
       "    </tr>\n",
       "    <tr>\n",
       "      <th>3</th>\n",
       "      <td>FDQ58</td>\n",
       "      <td>OUT017</td>\n",
       "      <td>2589.628955</td>\n",
       "    </tr>\n",
       "    <tr>\n",
       "      <th>4</th>\n",
       "      <td>FDY38</td>\n",
       "      <td>OUT027</td>\n",
       "      <td>4891.462773</td>\n",
       "    </tr>\n",
       "    <tr>\n",
       "      <th>...</th>\n",
       "      <td>...</td>\n",
       "      <td>...</td>\n",
       "      <td>...</td>\n",
       "    </tr>\n",
       "    <tr>\n",
       "      <th>5676</th>\n",
       "      <td>FDB58</td>\n",
       "      <td>OUT046</td>\n",
       "      <td>2312.515771</td>\n",
       "    </tr>\n",
       "    <tr>\n",
       "      <th>5677</th>\n",
       "      <td>FDD47</td>\n",
       "      <td>OUT018</td>\n",
       "      <td>2342.662441</td>\n",
       "    </tr>\n",
       "    <tr>\n",
       "      <th>5678</th>\n",
       "      <td>NCO17</td>\n",
       "      <td>OUT045</td>\n",
       "      <td>1829.728839</td>\n",
       "    </tr>\n",
       "    <tr>\n",
       "      <th>5679</th>\n",
       "      <td>FDJ26</td>\n",
       "      <td>OUT017</td>\n",
       "      <td>3425.125525</td>\n",
       "    </tr>\n",
       "    <tr>\n",
       "      <th>5680</th>\n",
       "      <td>FDU37</td>\n",
       "      <td>OUT045</td>\n",
       "      <td>1327.563146</td>\n",
       "    </tr>\n",
       "  </tbody>\n",
       "</table>\n",
       "<p>5681 rows × 3 columns</p>\n",
       "</div>"
      ],
      "text/plain": [
       "     Item_Identifier Outlet_Identifier  Item_Outlet_Sales\n",
       "0              FDW58            OUT049        1836.868568\n",
       "1              FDW14            OUT017        1670.323792\n",
       "2              NCN55            OUT010        1974.906904\n",
       "3              FDQ58            OUT017        2589.628955\n",
       "4              FDY38            OUT027        4891.462773\n",
       "...              ...               ...                ...\n",
       "5676           FDB58            OUT046        2312.515771\n",
       "5677           FDD47            OUT018        2342.662441\n",
       "5678           NCO17            OUT045        1829.728839\n",
       "5679           FDJ26            OUT017        3425.125525\n",
       "5680           FDU37            OUT045        1327.563146\n",
       "\n",
       "[5681 rows x 3 columns]"
      ]
     },
     "execution_count": 29,
     "metadata": {},
     "output_type": "execute_result"
    }
   ],
   "source": [
    "sub"
   ]
  },
  {
   "cell_type": "code",
   "execution_count": 31,
   "id": "226f1e62",
   "metadata": {},
   "outputs": [],
   "source": [
    "sub.to_csv('new_sub.csv',index=False)"
   ]
  },
  {
   "cell_type": "code",
   "execution_count": 49,
   "id": "57d2a11c",
   "metadata": {},
   "outputs": [
    {
     "name": "stdout",
     "output_type": "stream",
     "text": [
      "C:\\Users\\Ashwin\n"
     ]
    }
   ],
   "source": [
    "cd"
   ]
  },
  {
   "cell_type": "code",
   "execution_count": 32,
   "id": "2f458b15",
   "metadata": {},
   "outputs": [],
   "source": [
    "#elastic net model\n",
    "\n",
    "enet=ElasticNet(normalize=True)\n",
    "\n",
    "finalpred=enet.fit(x,y).predict(dummy_test)\n",
    "\n",
    "sub['Item_Outlet_Sales']=finalpred\n",
    "\n",
    "sub.to_csv('enet.csv',index=False)"
   ]
  },
  {
   "cell_type": "code",
   "execution_count": 33,
   "id": "06bfa60c",
   "metadata": {},
   "outputs": [
    {
     "data": {
      "text/plain": [
       "GridSearchCV(cv=5, estimator=ElasticNet(normalize=True),\n",
       "             param_grid={'l1_ratio': [0.1, 0.01, 0.001, 0.2, 0.02, 0.8, 0.9,\n",
       "                                      0.25, 0.0025]})"
      ]
     },
     "execution_count": 33,
     "metadata": {},
     "output_type": "execute_result"
    }
   ],
   "source": [
    "#tuning\n",
    "\n",
    "estimator=enet\n",
    "\n",
    "params=({'l1_ratio':[0.1,0.01,0.001,0.2,0.02,0.8,0.9,0.25,0.0025]})\n",
    "\n",
    "grid=GridSearchCV(estimator=enet,param_grid=params,cv=5)\n",
    "\n",
    "grid.fit(x,y)"
   ]
  },
  {
   "cell_type": "code",
   "execution_count": 35,
   "id": "e750a225",
   "metadata": {},
   "outputs": [
    {
     "data": {
      "text/plain": [
       "{'l1_ratio': 0.9}"
      ]
     },
     "execution_count": 35,
     "metadata": {},
     "output_type": "execute_result"
    }
   ],
   "source": [
    "grid.best_params_"
   ]
  },
  {
   "cell_type": "code",
   "execution_count": 36,
   "id": "8bf4a898",
   "metadata": {},
   "outputs": [],
   "source": [
    "\n",
    "enet=ElasticNet(l1_ratio=0.9,normalize=True)"
   ]
  },
  {
   "cell_type": "code",
   "execution_count": 37,
   "id": "0507cba3",
   "metadata": {},
   "outputs": [],
   "source": [
    "finalpred=enet.fit(x,y).predict(dummy_test)"
   ]
  },
  {
   "cell_type": "markdown",
   "id": "3aa63527",
   "metadata": {},
   "source": [
    "Rmse=1772"
   ]
  },
  {
   "cell_type": "code",
   "execution_count": 38,
   "id": "74284aa0",
   "metadata": {},
   "outputs": [],
   "source": [
    "#stochastic gradient descnet model\n",
    "\n",
    "from sklearn.linear_model import SGDRegressor\n",
    "sgd=SGDRegressor()"
   ]
  },
  {
   "cell_type": "code",
   "execution_count": 39,
   "id": "031daebc",
   "metadata": {},
   "outputs": [],
   "source": [
    "finalpred=sgd.fit(x,y).predict(dummy_test)"
   ]
  },
  {
   "cell_type": "code",
   "execution_count": 41,
   "id": "8eaee3a1",
   "metadata": {},
   "outputs": [],
   "source": [
    "sub['Item_Outlet_Sales']=abs(finalpred)\n",
    "sub.to_csv('sgdd.csv',index=False)"
   ]
  },
  {
   "cell_type": "code",
   "execution_count": 42,
   "id": "097df96c",
   "metadata": {},
   "outputs": [],
   "source": [
    "#gradient boosting\n",
    "\n",
    "from sklearn.ensemble import GradientBoostingRegressor\n",
    "\n",
    "gbm=GradientBoostingRegressor()"
   ]
  },
  {
   "cell_type": "code",
   "execution_count": 43,
   "id": "93b6177d",
   "metadata": {},
   "outputs": [],
   "source": [
    "finalpred=gbm.fit(x,y).predict(dummy_test)\n"
   ]
  },
  {
   "cell_type": "code",
   "execution_count": 46,
   "id": "a863218a",
   "metadata": {},
   "outputs": [],
   "source": [
    "estimator=gbm\n",
    "\n",
    "params=({'loss':['squared_error','huber','epsilon_insensitive','squared_epsilon_insensitive'],\n",
    "       'penalty':['l1','l2','elasticnet'],\n",
    "       'l1_ratio':[0.1,0.01,0.001,0.2,0.02,0.8,0.9,0.25,0.0025],\n",
    "       'alpha':[0.1,0.5,0.9,1,2,3,5,7,8,9,10]})"
   ]
  },
  {
   "cell_type": "code",
   "execution_count": 48,
   "id": "309ef607",
   "metadata": {},
   "outputs": [],
   "source": [
    "#grid=GridSearchCV(estimator=sgd,param_grid=params,cv=5)\n",
    "#grid.fit(x,y)\n",
    "#print(grid.best_params)"
   ]
  },
  {
   "cell_type": "code",
   "execution_count": 49,
   "id": "87609ae3",
   "metadata": {},
   "outputs": [],
   "source": [
    "sgd=SGDRegressor(alpha=0.1,l1_ratio=0.00258,loss='epsilon_insensitive',penalty='l1')"
   ]
  },
  {
   "cell_type": "code",
   "execution_count": 50,
   "id": "f9182376",
   "metadata": {},
   "outputs": [],
   "source": [
    "final_pred=sgd.fit(x,y).predict(dummy_test)"
   ]
  },
  {
   "cell_type": "code",
   "execution_count": 51,
   "id": "3a379eba",
   "metadata": {},
   "outputs": [],
   "source": [
    "sub['Item_Outlet_Sales']=final_pred"
   ]
  },
  {
   "cell_type": "code",
   "execution_count": 52,
   "id": "ca4bab0e",
   "metadata": {},
   "outputs": [],
   "source": [
    "sub.to_csv('tuned_sgd.csv',index=False)"
   ]
  },
  {
   "cell_type": "code",
   "execution_count": null,
   "id": "a53d394e",
   "metadata": {},
   "outputs": [],
   "source": []
  }
 ],
 "metadata": {
  "kernelspec": {
   "display_name": "Python 3 (ipykernel)",
   "language": "python",
   "name": "python3"
  },
  "language_info": {
   "codemirror_mode": {
    "name": "ipython",
    "version": 3
   },
   "file_extension": ".py",
   "mimetype": "text/x-python",
   "name": "python",
   "nbconvert_exporter": "python",
   "pygments_lexer": "ipython3",
   "version": "3.9.12"
  }
 },
 "nbformat": 4,
 "nbformat_minor": 5
}
